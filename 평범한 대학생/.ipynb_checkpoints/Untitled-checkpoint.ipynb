{
 "cells": [
  {
   "cell_type": "code",
   "execution_count": null,
   "metadata": {},
   "outputs": [],
   "source": [
    "import gettext\n",
    "import math\n",
    "import random\n",
    "import sys ## sleep 같은 것을 줄때\n",
    "from time import sleep\n",
    "import pygame\n",
    "from pygame.locals import * \n",
    "\n",
    "##### 프로그램 전체 초기화 및 변수 설정###\n",
    "\n",
    "pygame.init() #########\n",
    "\n",
    "Window_Width = 600\n",
    "Window_Height = 800\n",
    "\n",
    "BLACK = (0,0,0)\n",
    "WHITE = (200,200,200)\n",
    "YELLOW = (250,250,20)\n",
    "BLUE = (20,20,250)\n",
    "\n",
    "screen = pygame.display.set_mode((Window_Width, Window_Height))\n",
    "pygame.display.set_caption('어느 평험한 대학생의 한학기')\n",
    "pygame.display.set_icon(pygame.image.load())\n",
    "\n",
    "\n",
    "\n",
    "\n",
    "\n"
   ]
  }
 ],
 "metadata": {
  "kernelspec": {
   "display_name": "Python 3",
   "language": "python",
   "name": "python3"
  },
  "language_info": {
   "codemirror_mode": {
    "name": "ipython",
    "version": 3
   },
   "file_extension": ".py",
   "mimetype": "text/x-python",
   "name": "python",
   "nbconvert_exporter": "python",
   "pygments_lexer": "ipython3",
   "version": "3.7.7"
  }
 },
 "nbformat": 4,
 "nbformat_minor": 4
}
